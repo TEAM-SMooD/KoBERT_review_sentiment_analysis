{
 "cells": [
  {
   "cell_type": "code",
   "execution_count": 68,
   "metadata": {},
   "outputs": [],
   "source": [
    "import pandas as pd"
   ]
  },
  {
   "attachments": {},
   "cell_type": "markdown",
   "metadata": {},
   "source": [
    "## 데이터 임포트"
   ]
  },
  {
   "cell_type": "code",
   "execution_count": 69,
   "metadata": {},
   "outputs": [],
   "source": [
    "b1=pd.read_csv(r'C:\\Users\\user\\OneDrive\\바탕화~1-DESKTOP-R00ORLS-348\\캡스톤\\KoBERT 감성분류\\sentiment_label\\북촌리뷰_23년1분기_감성분석.csv')\n",
    "b2=pd.read_csv(r'C:\\Users\\user\\OneDrive\\바탕화~1-DESKTOP-R00ORLS-348\\캡스톤\\KoBERT 감성분류\\sentiment_label\\북촌리뷰_22년2분기_감성분석.csv')\n",
    "b3=pd.read_csv(r'C:\\Users\\user\\OneDrive\\바탕화~1-DESKTOP-R00ORLS-348\\캡스톤\\KoBERT 감성분류\\sentiment_label\\북촌리뷰_22년3분기_감성분석.csv')\n",
    "b4=pd.read_csv(r'C:\\Users\\user\\OneDrive\\바탕화~1-DESKTOP-R00ORLS-348\\캡스톤\\KoBERT 감성분류\\sentiment_label\\북촌리뷰_22년4분기_감성분석.csv')"
   ]
  },
  {
   "cell_type": "code",
   "execution_count": 70,
   "metadata": {},
   "outputs": [],
   "source": [
    "sc1=pd.read_csv(r'C:\\Users\\user\\OneDrive\\바탕화~1-DESKTOP-R00ORLS-348\\캡스톤\\KoBERT 감성분류\\sentiment_label\\신촌리뷰_23년1분기_감성분석.csv')\n",
    "sc2=pd.read_csv(r'C:\\Users\\user\\OneDrive\\바탕화~1-DESKTOP-R00ORLS-348\\캡스톤\\KoBERT 감성분류\\sentiment_label\\신촌리뷰_22년2분기_감성분석.csv')\n",
    "sc3=pd.read_csv(r'C:\\Users\\user\\OneDrive\\바탕화~1-DESKTOP-R00ORLS-348\\캡스톤\\KoBERT 감성분류\\sentiment_label\\신촌리뷰_22년3분기_감성분석.csv')\n",
    "sc4=pd.read_csv(r'C:\\Users\\user\\OneDrive\\바탕화~1-DESKTOP-R00ORLS-348\\캡스톤\\KoBERT 감성분류\\sentiment_label\\신촌리뷰_22년4분기_감성분석.csv')"
   ]
  },
  {
   "cell_type": "code",
   "execution_count": 71,
   "metadata": {},
   "outputs": [],
   "source": [
    "s1=pd.read_csv(r'C:\\Users\\user\\OneDrive\\바탕화~1-DESKTOP-R00ORLS-348\\캡스톤\\KoBERT 감성분류\\sentiment_label\\성수리뷰_23년1분기_감성분석.csv')\n",
    "s2=pd.read_csv(r'C:\\Users\\user\\OneDrive\\바탕화~1-DESKTOP-R00ORLS-348\\캡스톤\\KoBERT 감성분류\\sentiment_label\\성수리뷰_22년2분기_감성분석.csv')\n",
    "s3=pd.read_csv(r'C:\\Users\\user\\OneDrive\\바탕화~1-DESKTOP-R00ORLS-348\\캡스톤\\KoBERT 감성분류\\sentiment_label\\성수리뷰_22년3분기_감성분석.csv')\n",
    "s4=pd.read_csv(r'C:\\Users\\user\\OneDrive\\바탕화~1-DESKTOP-R00ORLS-348\\캡스톤\\KoBERT 감성분류\\sentiment_label\\성수리뷰_22년4분기_감성분석.csv')"
   ]
  },
  {
   "cell_type": "code",
   "execution_count": 72,
   "metadata": {},
   "outputs": [
    {
     "data": {
      "text/html": [
       "<div>\n",
       "<style scoped>\n",
       "    .dataframe tbody tr th:only-of-type {\n",
       "        vertical-align: middle;\n",
       "    }\n",
       "\n",
       "    .dataframe tbody tr th {\n",
       "        vertical-align: top;\n",
       "    }\n",
       "\n",
       "    .dataframe thead th {\n",
       "        text-align: right;\n",
       "    }\n",
       "</style>\n",
       "<table border=\"1\" class=\"dataframe\">\n",
       "  <thead>\n",
       "    <tr style=\"text-align: right;\">\n",
       "      <th></th>\n",
       "      <th>상가업소번호</th>\n",
       "      <th>가게명</th>\n",
       "      <th>리뷰</th>\n",
       "      <th>evaluation</th>\n",
       "      <th>sentiment</th>\n",
       "      <th>persent</th>\n",
       "    </tr>\n",
       "  </thead>\n",
       "  <tbody>\n",
       "    <tr>\n",
       "      <th>0</th>\n",
       "      <td>MA010120220813677380</td>\n",
       "      <td>고래파스타</td>\n",
       "      <td>분위기 좋아용</td>\n",
       "      <td>(긍정 확률 : 0.98) 긍정</td>\n",
       "      <td>긍정</td>\n",
       "      <td>0.98</td>\n",
       "    </tr>\n",
       "    <tr>\n",
       "      <th>1</th>\n",
       "      <td>MA010120220813677380</td>\n",
       "      <td>고래파스타</td>\n",
       "      <td>ㅇㅅㅇ</td>\n",
       "      <td>(긍정 확률 : 0.98) 긍정</td>\n",
       "      <td>긍정</td>\n",
       "      <td>0.98</td>\n",
       "    </tr>\n",
       "    <tr>\n",
       "      <th>2</th>\n",
       "      <td>MA010120220813677380</td>\n",
       "      <td>고래파스타</td>\n",
       "      <td>라자냐까지 먹었는데 너무 맛있었어욤!!</td>\n",
       "      <td>(긍정 확률 : 0.98) 긍정</td>\n",
       "      <td>긍정</td>\n",
       "      <td>0.98</td>\n",
       "    </tr>\n",
       "    <tr>\n",
       "      <th>3</th>\n",
       "      <td>MA010120220813677380</td>\n",
       "      <td>고래파스타</td>\n",
       "      <td>가성비 괜찮아요 뇨끼랑 라자냐 먹었는데 라자냐가 맛있었어요</td>\n",
       "      <td>(긍정 확률 : 0.98) 긍정</td>\n",
       "      <td>긍정</td>\n",
       "      <td>0.98</td>\n",
       "    </tr>\n",
       "    <tr>\n",
       "      <th>4</th>\n",
       "      <td>MA010120220813677380</td>\n",
       "      <td>고래파스타</td>\n",
       "      <td>친구 추천으로 가봤어요. 감자 뇨끼 맛있어요!!</td>\n",
       "      <td>(긍정 확률 : 0.98) 긍정</td>\n",
       "      <td>긍정</td>\n",
       "      <td>0.98</td>\n",
       "    </tr>\n",
       "  </tbody>\n",
       "</table>\n",
       "</div>"
      ],
      "text/plain": [
       "                 상가업소번호    가게명                                리뷰  \\\n",
       "0  MA010120220813677380  고래파스타                           분위기 좋아용   \n",
       "1  MA010120220813677380  고래파스타                               ㅇㅅㅇ   \n",
       "2  MA010120220813677380  고래파스타             라자냐까지 먹었는데 너무 맛있었어욤!!   \n",
       "3  MA010120220813677380  고래파스타  가성비 괜찮아요 뇨끼랑 라자냐 먹었는데 라자냐가 맛있었어요   \n",
       "4  MA010120220813677380  고래파스타        친구 추천으로 가봤어요. 감자 뇨끼 맛있어요!!   \n",
       "\n",
       "          evaluation sentiment  persent  \n",
       "0  (긍정 확률 : 0.98) 긍정        긍정     0.98  \n",
       "1  (긍정 확률 : 0.98) 긍정        긍정     0.98  \n",
       "2  (긍정 확률 : 0.98) 긍정        긍정     0.98  \n",
       "3  (긍정 확률 : 0.98) 긍정        긍정     0.98  \n",
       "4  (긍정 확률 : 0.98) 긍정        긍정     0.98  "
      ]
     },
     "execution_count": 72,
     "metadata": {},
     "output_type": "execute_result"
    }
   ],
   "source": [
    "sc1.head()"
   ]
  },
  {
   "attachments": {},
   "cell_type": "markdown",
   "metadata": {},
   "source": [
    "## 퍼센티지, 긍부정 레이블 분리"
   ]
  },
  {
   "cell_type": "code",
   "execution_count": 9,
   "metadata": {},
   "outputs": [],
   "source": [
    "def seperate(df):\n",
    "    df['sentiment']=''\n",
    "    df['persent']=''\n",
    "\n",
    "    #긍정, 긍정으로 예측한 확률 \n",
    "    for i in range(len(df)):\n",
    "        df['sentiment'][i]=df['evaluation'][i][1:3]\n",
    "        df['persent'][i]=df['evaluation'][i][9:13]\n",
    "    \n",
    "    return df\n"
   ]
  },
  {
   "cell_type": "code",
   "execution_count": 20,
   "metadata": {},
   "outputs": [],
   "source": [
    "b1=seperate(b1)\n",
    "b2=seperate(b2)\n",
    "b3=seperate(b3)\n",
    "b4=seperate(b4)"
   ]
  },
  {
   "cell_type": "code",
   "execution_count": 19,
   "metadata": {},
   "outputs": [],
   "source": [
    "sc1=seperate(sc1)\n",
    "sc2=seperate(sc2)\n",
    "sc3=seperate(sc3)\n",
    "sc4=seperate(sc4)"
   ]
  },
  {
   "cell_type": "code",
   "execution_count": 60,
   "metadata": {},
   "outputs": [],
   "source": [
    "s1=seperate(s1)\n",
    "s2=seperate(s2)\n",
    "s3=seperate(s3)\n",
    "s4=seperate(s4)"
   ]
  },
  {
   "attachments": {},
   "cell_type": "markdown",
   "metadata": {},
   "source": [
    "## 저장"
   ]
  },
  {
   "cell_type": "code",
   "execution_count": 22,
   "metadata": {},
   "outputs": [],
   "source": [
    "b1.to_csv(r'C:\\Users\\user\\OneDrive\\바탕화~1-DESKTOP-R00ORLS-348\\캡스톤\\KoBERT 감성분류\\sentiment_label\\북촌리뷰_23년1분기_감성분석.csv',index=False)\n",
    "b2.to_csv(r'C:\\Users\\user\\OneDrive\\바탕화~1-DESKTOP-R00ORLS-348\\캡스톤\\KoBERT 감성분류\\sentiment_label\\북촌리뷰_22년2분기_감성분석.csv',index=False)\n",
    "b3.to_csv(r'C:\\Users\\user\\OneDrive\\바탕화~1-DESKTOP-R00ORLS-348\\캡스톤\\KoBERT 감성분류\\sentiment_label\\북촌리뷰_22년3분기_감성분석.csv',index=False)\n",
    "b4.to_csv(r'C:\\Users\\user\\OneDrive\\바탕화~1-DESKTOP-R00ORLS-348\\캡스톤\\KoBERT 감성분류\\sentiment_label\\북촌리뷰_22년4분기_감성분석.csv',index=False)"
   ]
  },
  {
   "cell_type": "code",
   "execution_count": 23,
   "metadata": {},
   "outputs": [],
   "source": [
    "sc1.to_csv(r'C:\\Users\\user\\OneDrive\\바탕화~1-DESKTOP-R00ORLS-348\\캡스톤\\KoBERT 감성분류\\sentiment_label\\신촌리뷰_23년1분기_감성분석.csv',index=False)\n",
    "sc2.to_csv(r'C:\\Users\\user\\OneDrive\\바탕화~1-DESKTOP-R00ORLS-348\\캡스톤\\KoBERT 감성분류\\sentiment_label\\신촌리뷰_22년2분기_감성분석.csv',index=False)\n",
    "sc3.to_csv(r'C:\\Users\\user\\OneDrive\\바탕화~1-DESKTOP-R00ORLS-348\\캡스톤\\KoBERT 감성분류\\sentiment_label\\신촌리뷰_22년3분기_감성분석.csv',index=False)\n",
    "sc4.to_csv(r'C:\\Users\\user\\OneDrive\\바탕화~1-DESKTOP-R00ORLS-348\\캡스톤\\KoBERT 감성분류\\sentiment_label\\신촌리뷰_22년4분기_감성분석.csv',index=False)"
   ]
  },
  {
   "cell_type": "code",
   "execution_count": 61,
   "metadata": {},
   "outputs": [],
   "source": [
    "s1.to_csv(r'C:\\Users\\user\\OneDrive\\바탕화~1-DESKTOP-R00ORLS-348\\캡스톤\\KoBERT 감성분류\\sentiment_label\\성수리뷰_23년1분기_감성분석.csv',index=False)\n",
    "s2.to_csv(r'C:\\Users\\user\\OneDrive\\바탕화~1-DESKTOP-R00ORLS-348\\캡스톤\\KoBERT 감성분류\\sentiment_label\\성수리뷰_22년2분기_감성분석.csv',index=False)\n",
    "s3.to_csv(r'C:\\Users\\user\\OneDrive\\바탕화~1-DESKTOP-R00ORLS-348\\캡스톤\\KoBERT 감성분류\\sentiment_label\\성수리뷰_22년3분기_감성분석.csv',index=False)\n",
    "s4.to_csv(r'C:\\Users\\user\\OneDrive\\바탕화~1-DESKTOP-R00ORLS-348\\캡스톤\\KoBERT 감성분류\\sentiment_label\\성수리뷰_22년4분기_감성분석.csv',index=False)"
   ]
  },
  {
   "attachments": {},
   "cell_type": "markdown",
   "metadata": {},
   "source": [
    "## 가게별 긍정 리뷰 비율"
   ]
  },
  {
   "attachments": {},
   "cell_type": "markdown",
   "metadata": {},
   "source": [
    "### 가게별 리뷰 개수"
   ]
  },
  {
   "cell_type": "code",
   "execution_count": 41,
   "metadata": {},
   "outputs": [
    {
     "data": {
      "text/html": [
       "<div>\n",
       "<style scoped>\n",
       "    .dataframe tbody tr th:only-of-type {\n",
       "        vertical-align: middle;\n",
       "    }\n",
       "\n",
       "    .dataframe tbody tr th {\n",
       "        vertical-align: top;\n",
       "    }\n",
       "\n",
       "    .dataframe thead th {\n",
       "        text-align: right;\n",
       "    }\n",
       "</style>\n",
       "<table border=\"1\" class=\"dataframe\">\n",
       "  <thead>\n",
       "    <tr style=\"text-align: right;\">\n",
       "      <th></th>\n",
       "      <th>상가업소번호</th>\n",
       "      <th>가게명</th>\n",
       "      <th>리뷰</th>\n",
       "      <th>evaluation</th>\n",
       "      <th>sentiment</th>\n",
       "      <th>persent</th>\n",
       "    </tr>\n",
       "  </thead>\n",
       "  <tbody>\n",
       "    <tr>\n",
       "      <th>0</th>\n",
       "      <td>MA010120220805435729</td>\n",
       "      <td>몽중헌 안국점</td>\n",
       "      <td>주차도 발렛 편리했고 음식맛은 정말 맛있었습니다! 일요일 오후7시~8시30분  식사...</td>\n",
       "      <td>(긍정 확률 : 0.99) 긍정</td>\n",
       "      <td>긍정</td>\n",
       "      <td>0.99</td>\n",
       "    </tr>\n",
       "    <tr>\n",
       "      <th>1</th>\n",
       "      <td>MA010120220805435729</td>\n",
       "      <td>몽중헌 안국점</td>\n",
       "      <td>좋아요</td>\n",
       "      <td>(긍정 확률 : 0.95) 긍정</td>\n",
       "      <td>긍정</td>\n",
       "      <td>0.95</td>\n",
       "    </tr>\n",
       "    <tr>\n",
       "      <th>2</th>\n",
       "      <td>MA010120220805435729</td>\n",
       "      <td>몽중헌 안국점</td>\n",
       "      <td>오랜만에 방문한고 같아요!! 비록 북촌이 정말이지 사람이 너무너무 많아져서 그런지 ...</td>\n",
       "      <td>(긍정 확률 : 0.99) 긍정</td>\n",
       "      <td>긍정</td>\n",
       "      <td>0.99</td>\n",
       "    </tr>\n",
       "    <tr>\n",
       "      <th>3</th>\n",
       "      <td>MA010120220805435729</td>\n",
       "      <td>몽중헌 안국점</td>\n",
       "      <td>굿</td>\n",
       "      <td>(긍정 확률 : 0.94) 긍정</td>\n",
       "      <td>긍정</td>\n",
       "      <td>0.94</td>\n",
       "    </tr>\n",
       "    <tr>\n",
       "      <th>4</th>\n",
       "      <td>MA010120220805435729</td>\n",
       "      <td>몽중헌 안국점</td>\n",
       "      <td>굿</td>\n",
       "      <td>(긍정 확률 : 0.94) 긍정</td>\n",
       "      <td>긍정</td>\n",
       "      <td>0.94</td>\n",
       "    </tr>\n",
       "  </tbody>\n",
       "</table>\n",
       "</div>"
      ],
      "text/plain": [
       "                 상가업소번호      가게명  \\\n",
       "0  MA010120220805435729  몽중헌 안국점   \n",
       "1  MA010120220805435729  몽중헌 안국점   \n",
       "2  MA010120220805435729  몽중헌 안국점   \n",
       "3  MA010120220805435729  몽중헌 안국점   \n",
       "4  MA010120220805435729  몽중헌 안국점   \n",
       "\n",
       "                                                  리뷰         evaluation  \\\n",
       "0  주차도 발렛 편리했고 음식맛은 정말 맛있었습니다! 일요일 오후7시~8시30분  식사...  (긍정 확률 : 0.99) 긍정   \n",
       "1                                                좋아요  (긍정 확률 : 0.95) 긍정   \n",
       "2  오랜만에 방문한고 같아요!! 비록 북촌이 정말이지 사람이 너무너무 많아져서 그런지 ...  (긍정 확률 : 0.99) 긍정   \n",
       "3                                                  굿  (긍정 확률 : 0.94) 긍정   \n",
       "4                                                  굿  (긍정 확률 : 0.94) 긍정   \n",
       "\n",
       "  sentiment  persent  \n",
       "0        긍정     0.99  \n",
       "1        긍정     0.95  \n",
       "2        긍정     0.99  \n",
       "3        긍정     0.94  \n",
       "4        긍정     0.94  "
      ]
     },
     "execution_count": 41,
     "metadata": {},
     "output_type": "execute_result"
    }
   ],
   "source": [
    "b2.head()"
   ]
  },
  {
   "cell_type": "code",
   "execution_count": 100,
   "metadata": {},
   "outputs": [],
   "source": [
    "#긍부정 리뷰 비율\n",
    "def good_bad(b1):\n",
    "\n",
    "  b1_list=b1['가게명'].value_counts().index\n",
    "\n",
    "  shop_num_list=[]\n",
    "  shop_name_list=[]\n",
    "  review_len_list=[]\n",
    "  shop_good_list=[]\n",
    "  shop_bad_list=[]\n",
    "  good_review_per=[]\n",
    "  bad_review_per=[]\n",
    "\n",
    "  for i in range(len(b1_list)):\n",
    "    shop_name=b1_list[i]\n",
    "    shop=b1[b1['가게명']==shop_name].reset_index(drop=True)#특정 가게 데이터만 뽑기\n",
    "    shop_name_list.append(shop_name)#가게 이름 넣어주기\n",
    "\n",
    "    shop_num=shop['상가업소번호'][0]\n",
    "    shop_num_list.append(shop_num)\n",
    "\n",
    "    #특정 가게 리뷰 개수\n",
    "    review_len=len(b1[b1['가게명']==shop_name])\n",
    "    review_len_list.append(review_len) \n",
    "\n",
    "    #긍정 리뷰 개수\n",
    "    shop_good=len(shop[shop['sentiment']=='긍정'])\n",
    "    shop_good_list.append(len(shop[shop['sentiment']=='긍정']))\n",
    "\n",
    "   #부정리뷰 개수\n",
    "    shop_bad=len(shop[shop['sentiment']=='부정'])\n",
    "    shop_bad_list.append(len(shop[shop['sentiment']=='부정']))\n",
    "\n",
    "    #긍정 리뷰 비율\n",
    "    good_per=round(shop_good/review_len*100,1)\n",
    "    good_review_per.append(good_per)\n",
    "\n",
    "   #부정 리뷰 비율\n",
    "    bad_per=round(shop_bad/review_len*100,1)\n",
    "    bad_review_per.append(bad_per)\n",
    "\n",
    "\n",
    "  shop_good_bad=pd.DataFrame({'상가업소번호':shop_num_list,\n",
    "                              '가게명':shop_name_list,\n",
    "                              '리뷰 개수':review_len_list,\n",
    "                              '긍정 리뷰 개수':shop_good_list,\n",
    "                              '부정 리뷰 개수':shop_bad_list,\n",
    "                              '긍정 리뷰 비율':good_review_per,\n",
    "                              '부정 리뷰 비율':bad_review_per})\n",
    "  \n",
    "  return shop_good_bad"
   ]
  },
  {
   "cell_type": "code",
   "execution_count": 106,
   "metadata": {},
   "outputs": [],
   "source": [
    "b1_good_bad=good_bad(b1)\n",
    "b1_good_bad.to_csv('북촌리뷰_23년1분기_긍정리뷰비율.csv',index=False)\n",
    "\n",
    "b2_good_bad=good_bad(b2)\n",
    "b2_good_bad.to_csv('북촌리뷰_22년2분기_긍정리뷰비율.csv',index=False)\n",
    "\n",
    "b3_good_bad=good_bad(b3)\n",
    "b3_good_bad.to_csv('북촌리뷰_22년3분기_긍정리뷰비율.csv',index=False)\n",
    "\n",
    "b4_good_bad=good_bad(b4)\n",
    "b4_good_bad.to_csv('북촌리뷰_22년4분기_긍정리뷰비율.csv',index=False)"
   ]
  },
  {
   "cell_type": "code",
   "execution_count": 104,
   "metadata": {},
   "outputs": [],
   "source": [
    "sc1_good_bad=good_bad(sc1)\n",
    "sc1_good_bad.to_csv('신촌리뷰_23년1분기_긍정리뷰비율.csv',index=False)\n",
    "\n",
    "sc2_good_bad=good_bad(sc2)\n",
    "sc2_good_bad.to_csv('신촌리뷰_22년2분기_긍정리뷰비율.csv',index=False)\n",
    "\n",
    "sc3_good_bad=good_bad(sc3)\n",
    "sc3_good_bad.to_csv('신촌리뷰_22년3분기_긍정리뷰비율.csv',index=False)\n",
    "\n",
    "sc4_good_bad=good_bad(sc4)\n",
    "sc4_good_bad.to_csv('신촌리뷰_22년4분기_긍정리뷰비율.csv',index=False)"
   ]
  },
  {
   "cell_type": "code",
   "execution_count": 105,
   "metadata": {},
   "outputs": [],
   "source": [
    "s1_good_bad=good_bad(s1)\n",
    "s1_good_bad.to_csv('성수리뷰_23년1분기_긍정리뷰비율.csv',index=False)\n",
    "\n",
    "s2_good_bad=good_bad(s2)\n",
    "s2_good_bad.to_csv('성수리뷰_22년2분기_긍정리뷰비율.csv',index=False)\n",
    "\n",
    "s3_good_bad=good_bad(s3)\n",
    "s3_good_bad.to_csv('성수리뷰_22년3분기_긍정리뷰비율.csv',index=False)\n",
    "\n",
    "s4_good_bad=good_bad(s4)\n",
    "s4_good_bad.to_csv('성수리뷰_22년4분기_긍정리뷰비율.csv',index=False)"
   ]
  },
  {
   "cell_type": "code",
   "execution_count": 107,
   "metadata": {},
   "outputs": [
    {
     "data": {
      "text/html": [
       "<div>\n",
       "<style scoped>\n",
       "    .dataframe tbody tr th:only-of-type {\n",
       "        vertical-align: middle;\n",
       "    }\n",
       "\n",
       "    .dataframe tbody tr th {\n",
       "        vertical-align: top;\n",
       "    }\n",
       "\n",
       "    .dataframe thead th {\n",
       "        text-align: right;\n",
       "    }\n",
       "</style>\n",
       "<table border=\"1\" class=\"dataframe\">\n",
       "  <thead>\n",
       "    <tr style=\"text-align: right;\">\n",
       "      <th></th>\n",
       "      <th>상가업소번호</th>\n",
       "      <th>가게명</th>\n",
       "      <th>리뷰 개수</th>\n",
       "      <th>긍정 리뷰 개수</th>\n",
       "      <th>부정 리뷰 개수</th>\n",
       "      <th>긍정 리뷰 비율</th>\n",
       "      <th>부정 리뷰 비율</th>\n",
       "    </tr>\n",
       "  </thead>\n",
       "  <tbody>\n",
       "    <tr>\n",
       "      <th>0</th>\n",
       "      <td>MA010120220809778726</td>\n",
       "      <td>노가리마켓 서울숲</td>\n",
       "      <td>396</td>\n",
       "      <td>392</td>\n",
       "      <td>4</td>\n",
       "      <td>99.0</td>\n",
       "      <td>1.0</td>\n",
       "    </tr>\n",
       "    <tr>\n",
       "      <th>1</th>\n",
       "      <td>MA010120220808201784</td>\n",
       "      <td>고든램지 스트리트 피자 서울숲점</td>\n",
       "      <td>221</td>\n",
       "      <td>198</td>\n",
       "      <td>23</td>\n",
       "      <td>89.6</td>\n",
       "      <td>10.4</td>\n",
       "    </tr>\n",
       "    <tr>\n",
       "      <th>2</th>\n",
       "      <td>MA0101202301A0002226</td>\n",
       "      <td>오마카세 오사이초밥 성수점</td>\n",
       "      <td>204</td>\n",
       "      <td>203</td>\n",
       "      <td>1</td>\n",
       "      <td>99.5</td>\n",
       "      <td>0.5</td>\n",
       "    </tr>\n",
       "    <tr>\n",
       "      <th>3</th>\n",
       "      <td>MA0101202211A0055770</td>\n",
       "      <td>아파스타먼</td>\n",
       "      <td>196</td>\n",
       "      <td>195</td>\n",
       "      <td>1</td>\n",
       "      <td>99.5</td>\n",
       "      <td>0.5</td>\n",
       "    </tr>\n",
       "    <tr>\n",
       "      <th>4</th>\n",
       "      <td>MA010120220802991908</td>\n",
       "      <td>쎄콩데live</td>\n",
       "      <td>182</td>\n",
       "      <td>178</td>\n",
       "      <td>4</td>\n",
       "      <td>97.8</td>\n",
       "      <td>2.2</td>\n",
       "    </tr>\n",
       "  </tbody>\n",
       "</table>\n",
       "</div>"
      ],
      "text/plain": [
       "                 상가업소번호                가게명  리뷰 개수  긍정 리뷰 개수  부정 리뷰 개수  \\\n",
       "0  MA010120220809778726          노가리마켓 서울숲    396       392         4   \n",
       "1  MA010120220808201784  고든램지 스트리트 피자 서울숲점    221       198        23   \n",
       "2  MA0101202301A0002226     오마카세 오사이초밥 성수점    204       203         1   \n",
       "3  MA0101202211A0055770              아파스타먼    196       195         1   \n",
       "4  MA010120220802991908            쎄콩데live    182       178         4   \n",
       "\n",
       "   긍정 리뷰 비율  부정 리뷰 비율  \n",
       "0      99.0       1.0  \n",
       "1      89.6      10.4  \n",
       "2      99.5       0.5  \n",
       "3      99.5       0.5  \n",
       "4      97.8       2.2  "
      ]
     },
     "execution_count": 107,
     "metadata": {},
     "output_type": "execute_result"
    }
   ],
   "source": [
    "s1_good_bad.head()"
   ]
  },
  {
   "cell_type": "code",
   "execution_count": null,
   "metadata": {},
   "outputs": [],
   "source": []
  }
 ],
 "metadata": {
  "kernelspec": {
   "display_name": "capstone",
   "language": "python",
   "name": "python3"
  },
  "language_info": {
   "codemirror_mode": {
    "name": "ipython",
    "version": 3
   },
   "file_extension": ".py",
   "mimetype": "text/x-python",
   "name": "python",
   "nbconvert_exporter": "python",
   "pygments_lexer": "ipython3",
   "version": "3.11.2"
  },
  "orig_nbformat": 4
 },
 "nbformat": 4,
 "nbformat_minor": 2
}
